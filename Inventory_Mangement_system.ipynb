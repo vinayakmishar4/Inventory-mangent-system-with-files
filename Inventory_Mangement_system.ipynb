{
 "cells": [
  {
   "cell_type": "markdown",
   "id": "c811d0b9-7009-4f0b-84fb-c1428d81da77",
   "metadata": {},
   "source": [
    "# Inventory Mangement"
   ]
  },
  {
   "cell_type": "raw",
   "id": "45c075ea-3359-4600-99b9-0176e19f9469",
   "metadata": {},
   "source": [
    "Product Details:-\n",
    "1.Product ID\n",
    "2.Name of Product\n",
    "3.Price of Product\n",
    "4.Quantity"
   ]
  },
  {
   "cell_type": "code",
   "execution_count": 41,
   "id": "b720e071-7836-4d2e-965b-e3d366c23b17",
   "metadata": {},
   "outputs": [
    {
     "name": "stdin",
     "output_type": "stream",
     "text": [
      "Product ID 2\n",
      "Name of Product cake\n",
      "Price of Product 200\n",
      "Quantity 100\n"
     ]
    }
   ],
   "source": [
    "fd=open('Inventory.txt','a')\n",
    "# it is used to add more  data in  the file\n",
    "pd=input('Product ID')\n",
    "pn=input('Name of Product')\n",
    "pp=input('Price of Product')\n",
    "pq=input('Quantity')\n",
    "\n",
    "str1=pd+\",\"+pn+\",\"+pp+\",\"+pq\n",
    "fd.write(str1)\n",
    "#print(s)\n",
    "\n",
    "fd.close()"
   ]
  },
  {
   "cell_type": "code",
   "execution_count": 3,
   "id": "17820c6b-bbd5-4c40-84dd-fd17ff6a6c15",
   "metadata": {},
   "outputs": [
    {
     "name": "stdout",
     "output_type": "stream",
     "text": [
      "['1,oreo,330,102,cake,200,100']\n"
     ]
    }
   ],
   "source": [
    "#Read data from the function\n",
    "fd=open('Inventory.txt','r')\n",
    "txt=fd.read().split('\\n')\n",
    "txt\n",
    "print(txt)\n",
    "fd.close()"
   ]
  },
  {
   "cell_type": "code",
   "execution_count": 43,
   "id": "a4c40da5-7c90-484f-ab0d-ae96b8215cd8",
   "metadata": {},
   "outputs": [
    {
     "name": "stdin",
     "output_type": "stream",
     "text": [
      "Enter your name bnm\n",
      "Enter your Phone 5566778899\n",
      "Enter your mail bnm@gmail.com\n",
      "Enter the Product ID 1\n",
      "Enter the Quantity 5\n"
     ]
    },
    {
     "name": "stdout",
     "output_type": "stream",
     "text": [
      "Product Name :-  oreo\n",
      "Product Price :-  330\n",
      "Product Quantity :- 5\n",
      "-------------------------------\n",
      "Amount :-  1650\n",
      "[['1', 'oreo', '330', '10'], ['2', 'cake', '200', '100']]\n"
     ]
    }
   ],
   "source": [
    "import time\n",
    "username=input(\"Enter your name\")\n",
    "phone=input(\"Enter your Phone\")\n",
    "mail=input(\"Enter your mail\")\n",
    "product_id=input('Enter the Product ID')\n",
    "prouduct_qn=input('Enter the Quantity')\n",
    "upadated_product=[]\n",
    "for i in txt:\n",
    "    product_d=i.split(',')\n",
    "    if product_d[0]==product_id:\n",
    "        # check product is there or not \n",
    "        if int(prouduct_qn)<=int(product_d[3]):\n",
    "            # check if stock is there or not\n",
    "            print(\"Product Name :- \",product_d[1])\n",
    "            print(\"Product Price :- \",product_d[2])\n",
    "            print(\"Product Quantity :-\",prouduct_qn)\n",
    "            print(\"-------------------------------\")\n",
    "            print(\"Amount :- \",int(prouduct_qn)*int(product_d[2]))\n",
    "            # update the quantity\n",
    "            product_d[3]=str(int(product_d[3])-int(prouduct_qn))\n",
    "            fd=open('Billing_history.txt','a')\n",
    "            str1=username+\",\"+phone+\",\"+mail+\",\"+product_id+\",\"+prouduct_qn+\",\"+str(int(prouduct_qn)*int(product_d[2]))+\",\"+time.ctime()+\"\\n\"\n",
    "            fd.write(str1)\n",
    "            fd.close()\n",
    "        else:\n",
    "            print('Sorry we have not enough stock for',product_d[1])\n",
    "            print('We have only this stock',product_d[3])\n",
    "\n",
    "            ch=input('Press Y or N')\n",
    "            if(ch=='Y' or ch=='y'):\n",
    "                print(\"Product Name :- \",product_d[1])\n",
    "                print(\"Product Price :- \",product_d[2])\n",
    "                print(\"Product Quantity :-\",product_d[3])\n",
    "                print(\"-------------------------------\")\n",
    "                print(\"Amount :- \",int(product_d[3])*int(product_d[2]))\n",
    "                # update the quantity\n",
    "                product_d[3]='0'\n",
    "            else:\n",
    "                print('Thank you for shopping')\n",
    "            \n",
    "    upadated_product.append(product_d)\n",
    "print(upadated_product)"
   ]
  },
  {
   "cell_type": "code",
   "execution_count": 44,
   "id": "6ca74def-b0f2-4973-be20-56fe59f8be54",
   "metadata": {},
   "outputs": [],
   "source": [
    "fd = open('Inventory.txt', 'w')\n",
    "for i in upadated_product:\n",
    "        prod = str(i[0]) + \",\" + str(i[1]) + \",\" + str(i[2]) + \",\" + str(i[3])\n",
    "        fd.write(prod)\n",
    "fd.close()\n"
   ]
  },
  {
   "cell_type": "code",
   "execution_count": null,
   "id": "67fe72a7-4a50-4c46-bdb7-61bf2a778123",
   "metadata": {},
   "outputs": [],
   "source": []
  }
 ],
 "metadata": {
  "kernelspec": {
   "display_name": "Python 3 (ipykernel)",
   "language": "python",
   "name": "python3"
  },
  "language_info": {
   "codemirror_mode": {
    "name": "ipython",
    "version": 3
   },
   "file_extension": ".py",
   "mimetype": "text/x-python",
   "name": "python",
   "nbconvert_exporter": "python",
   "pygments_lexer": "ipython3",
   "version": "3.11.7"
  }
 },
 "nbformat": 4,
 "nbformat_minor": 5
}
